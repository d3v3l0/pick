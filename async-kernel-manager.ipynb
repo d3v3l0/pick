{
 "cells": [
  {
   "cell_type": "markdown",
   "metadata": {},
   "source": [
    "# Let's build a kernel proxy with a special purpose!\n",
    "\n",
    "We're going to make a kernel that lanches another kernel underneath, while proxying all the messages to/from it.\n",
    "\n",
    "Additionally, we'll build it on top of AsyncKernelManager and AsyncKernelClient"
   ]
  },
  {
   "cell_type": "code",
   "execution_count": 1,
   "metadata": {},
   "outputs": [],
   "source": [
    "import asyncio"
   ]
  },
  {
   "cell_type": "code",
   "execution_count": 5,
   "metadata": {},
   "outputs": [
    {
     "name": "stdout",
     "output_type": "stream",
     "text": [
      "Jupyter Client Version 6.1.2\n"
     ]
    }
   ],
   "source": [
    "import jupyter_client\n",
    "from jupyter_client import AsyncKernelManager\n",
    "\n",
    "print(\"Jupyter Client Version\", jupyter_client.__version__)"
   ]
  },
  {
   "cell_type": "markdown",
   "metadata": {},
   "source": [
    "Launching a kernel can be done with a KernelManager. For this post, we'll be using an AsyncKernelManager which comes wiht the latest version of `jupyter_client` at the time of this writing (6.1.2).\n",
    "\n",
    "**NOTE**: You'll see some \"pre-amble\" code in upcoming cells where \"cleanup\" is done before a variable is defined\n",
    "\n",
    "a lot of code where cleanup is performed before we even define the "
   ]
  },
  {
   "cell_type": "code",
   "execution_count": 6,
   "metadata": {},
   "outputs": [],
   "source": [
    "# Setup a way to shutdown a kernel cleanly:\n",
    "# * The channels on a kernel client\n",
    "# * The kernel itself on the kernel manager\n",
    "async def shutdown_kernel():\n",
    "    kc.stop_channels()\n",
    "    await km.shutdown_kernel()\n",
    "\n",
    "# To facilitate re-running this cell, we shut down prior kernels at\n",
    "# the start. It's a no-op when the kernel hasn't been started yet.\n",
    "try:\n",
    "    await shutdown_kernel()\n",
    "except:\n",
    "    pass\n",
    "\n",
    "km = AsyncKernelManager(kernel_name=\"python3\")\n",
    "\n",
    "# Start the kernel process\n",
    "await km.start_kernel()\n",
    "\n",
    "# Create our \"client\" for interfacing with the kernel\n",
    "kc = km.client()\n",
    "\n",
    "# Connect to the communication channels\n",
    "kc.start_channels()\n",
    "\n",
    "try:\n",
    "    # Wait for the kernel itself to be ready, though only letting it run for 100ms\n",
    "    await kc.wait_for_ready(timeout=100)\n",
    "except RuntimeError:\n",
    "    kc.stop_channels()\n",
    "    await km.shutdown_kernel()\n",
    "    raise"
   ]
  },
  {
   "cell_type": "markdown",
   "metadata": {},
   "source": [
    "With this started, we can now execute code on the kernel using the `KernelClient`, `kc`."
   ]
  },
  {
   "cell_type": "code",
   "execution_count": 7,
   "metadata": {},
   "outputs": [
    {
     "data": {
      "text/plain": [
       "{'header': {'msg_id': 'a173a6f2-bec1671233a3df6510b70f45_6',\n",
       "  'msg_type': 'execute_reply',\n",
       "  'username': 'kylek',\n",
       "  'session': 'a173a6f2-bec1671233a3df6510b70f45',\n",
       "  'date': datetime.datetime(2020, 4, 9, 15, 47, 42, 478807, tzinfo=tzutc()),\n",
       "  'version': '5.3'},\n",
       " 'msg_id': 'a173a6f2-bec1671233a3df6510b70f45_6',\n",
       " 'msg_type': 'execute_reply',\n",
       " 'parent_header': {'msg_id': '54e708fb-eba482c91754cc53d2fcdaad_1',\n",
       "  'msg_type': 'execute_request',\n",
       "  'username': 'kylek',\n",
       "  'session': '54e708fb-eba482c91754cc53d2fcdaad',\n",
       "  'date': datetime.datetime(2020, 4, 9, 15, 47, 42, 474427, tzinfo=tzutc()),\n",
       "  'version': '5.3'},\n",
       " 'metadata': {'started': '2020-04-09T15:47:42.476088Z',\n",
       "  'dependencies_met': True,\n",
       "  'engine': 'd7ba7709-c9f1-4cad-814b-b585e3ade093',\n",
       "  'status': 'ok'},\n",
       " 'content': {'status': 'ok',\n",
       "  'execution_count': 1,\n",
       "  'user_expressions': {},\n",
       "  'payload': []},\n",
       " 'buffers': []}"
      ]
     },
     "metadata": {},
     "output_type": "display_data"
    }
   ],
   "source": [
    "msg_id = kc.execute('x = 3')\n",
    "reply = await kc.get_shell_msg(100)\n",
    "display(reply)"
   ]
  },
  {
   "cell_type": "markdown",
   "metadata": {},
   "source": [
    "There are two primary channels that we're going to care about in this notebook: shell and iopub.\n",
    "\n",
    "Shell is used for sending commands\n",
    "IOPub has all the good stuff (like output!)\n",
    "\n",
    "There can be a lot of IOPub messages, so we expect to `await` each one separately."
   ]
  },
  {
   "cell_type": "code",
   "execution_count": 8,
   "metadata": {
    "scrolled": true
   },
   "outputs": [
    {
     "data": {
      "text/plain": [
       "{'header': {'msg_id': 'a173a6f2-bec1671233a3df6510b70f45_4',\n",
       "  'msg_type': 'status',\n",
       "  'username': 'kylek',\n",
       "  'session': 'a173a6f2-bec1671233a3df6510b70f45',\n",
       "  'date': datetime.datetime(2020, 4, 9, 15, 47, 42, 475685, tzinfo=tzutc()),\n",
       "  'version': '5.3'},\n",
       " 'msg_id': 'a173a6f2-bec1671233a3df6510b70f45_4',\n",
       " 'msg_type': 'status',\n",
       " 'parent_header': {'msg_id': '54e708fb-eba482c91754cc53d2fcdaad_1',\n",
       "  'msg_type': 'execute_request',\n",
       "  'username': 'kylek',\n",
       "  'session': '54e708fb-eba482c91754cc53d2fcdaad',\n",
       "  'date': datetime.datetime(2020, 4, 9, 15, 47, 42, 474427, tzinfo=tzutc()),\n",
       "  'version': '5.3'},\n",
       " 'metadata': {},\n",
       " 'content': {'execution_state': 'busy'},\n",
       " 'buffers': []}"
      ]
     },
     "execution_count": 8,
     "metadata": {},
     "output_type": "execute_result"
    }
   ],
   "source": [
    "msg = await kc.get_iopub_msg()\n",
    "msg"
   ]
  },
  {
   "cell_type": "markdown",
   "metadata": {},
   "source": [
    "We don't have to do that though, we can set up a background task. It looks like this:"
   ]
  },
  {
   "cell_type": "code",
   "execution_count": 9,
   "metadata": {},
   "outputs": [
    {
     "name": "stdout",
     "output_type": "stream",
     "text": [
      "done:  True\n",
      "result:  {'header': {'msg_id': 'a173a6f2-bec1671233a3df6510b70f45_5', 'msg_type': 'execute_input', 'username': 'kylek', 'session': 'a173a6f2-bec1671233a3df6510b70f45', 'date': datetime.datetime(2020, 4, 9, 15, 47, 42, 476122, tzinfo=tzutc()), 'version': '5.3'}, 'msg_id': 'a173a6f2-bec1671233a3df6510b70f45_5', 'msg_type': 'execute_input', 'parent_header': {'msg_id': '54e708fb-eba482c91754cc53d2fcdaad_1', 'msg_type': 'execute_request', 'username': 'kylek', 'session': '54e708fb-eba482c91754cc53d2fcdaad', 'date': datetime.datetime(2020, 4, 9, 15, 47, 42, 474427, tzinfo=tzutc()), 'version': '5.3'}, 'metadata': {}, 'content': {'code': 'x = 3', 'execution_count': 1}, 'buffers': []}\n"
     ]
    }
   ],
   "source": [
    "# Here's an example task\n",
    "task = asyncio.create_task(kc.get_iopub_msg())\n",
    "await task\n",
    "\n",
    "print(\"done: \", task.done())\n",
    "print(\"result: \", task.result())"
   ]
  },
  {
   "cell_type": "markdown",
   "metadata": {},
   "source": [
    "Tasks are cancellable, exceptions can be looked into, callbacks can be added. They're a pretty basic yet incredibly useful primitive.\n",
    "\n",
    "Before we charge ahead, let's make our printouts easier to read."
   ]
  },
  {
   "cell_type": "code",
   "execution_count": 11,
   "metadata": {},
   "outputs": [],
   "source": [
    "# Set up some nice formatting calls\n",
    "\n",
    "from IPython.display import HTML\n",
    "from datetime import datetime\n",
    "from datetime import timezone\n",
    "from datetime import timedelta\n",
    "import json\n",
    "\n",
    "# Serialize datetime as ISO8609 datetime strings\n",
    "def serializer(obj):\n",
    "    if isinstance(obj, datetime):\n",
    "        return { '_isoformat': obj.isoformat() }\n",
    "    return super().default(obj)\n",
    "\n",
    "# Pretty print a message\n",
    "def pretty(msg):\n",
    "    return HTML(f\"\"\"<pre>{json.dumps(msg, indent=2, default=serializer)}</pre>\"\"\")"
   ]
  },
  {
   "cell_type": "code",
   "execution_count": 20,
   "metadata": {},
   "outputs": [
    {
     "data": {
      "text/html": [
       "<h2>Last IOPUB message</h2>"
      ],
      "text/plain": [
       "<IPython.core.display.HTML object>"
      ]
     },
     "metadata": {},
     "output_type": "display_data"
    },
    {
     "data": {
      "text/html": [
       "<pre>{\n",
       "  \"header\": {\n",
       "    \"msg_id\": \"a173a6f2-bec1671233a3df6510b70f45_35\",\n",
       "    \"msg_type\": \"status\",\n",
       "    \"username\": \"kylek\",\n",
       "    \"session\": \"a173a6f2-bec1671233a3df6510b70f45\",\n",
       "    \"date\": {\n",
       "      \"_isoformat\": \"2020-04-09T15:52:06.522196+00:00\"\n",
       "    },\n",
       "    \"version\": \"5.3\"\n",
       "  },\n",
       "  \"msg_id\": \"a173a6f2-bec1671233a3df6510b70f45_35\",\n",
       "  \"msg_type\": \"status\",\n",
       "  \"parent_header\": {\n",
       "    \"msg_id\": \"54e708fb-eba482c91754cc53d2fcdaad_9\",\n",
       "    \"msg_type\": \"execute_request\",\n",
       "    \"username\": \"kylek\",\n",
       "    \"session\": \"54e708fb-eba482c91754cc53d2fcdaad\",\n",
       "    \"date\": {\n",
       "      \"_isoformat\": \"2020-04-09T15:52:06.516331+00:00\"\n",
       "    },\n",
       "    \"version\": \"5.3\"\n",
       "  },\n",
       "  \"metadata\": {},\n",
       "  \"content\": {\n",
       "    \"execution_state\": \"idle\"\n",
       "  },\n",
       "  \"buffers\": []\n",
       "}</pre>"
      ],
      "text/plain": [
       "<IPython.core.display.HTML object>"
      ]
     },
     "metadata": {},
     "output_type": "display_data"
    }
   ],
   "source": [
    "# Gather all messages in an array\n",
    "dump = []\n",
    "\n",
    "# Grab all IOPub messages\n",
    "async def dump_iopub():\n",
    "    while True:\n",
    "        msg = await kc.get_iopub_msg()\n",
    "        dump.append(msg)\n",
    "        # Slow down for the sake of this demo\n",
    "        await asyncio.sleep(0.1)\n",
    "        handle.update(pretty(msg))\n",
    "\n",
    "display(HTML(\"<h2>Last IOPUB message</h2>\"))\n",
    "handle = display(pretty(msg), display_id=True)"
   ]
  },
  {
   "cell_type": "code",
   "execution_count": 21,
   "metadata": {},
   "outputs": [],
   "source": [
    "# Cleanup if the task is already running and we re-run this cell\n",
    "try:\n",
    "    iopub_task.cancel()\n",
    "except:\n",
    "    pass\n",
    "\n",
    "# Start handling that task in the background!\n",
    "iopub_task = asyncio.create_task(dump_iopub())"
   ]
  },
  {
   "cell_type": "code",
   "execution_count": 46,
   "metadata": {},
   "outputs": [
    {
     "data": {
      "text/plain": [
       "'54e708fb-eba482c91754cc53d2fcdaad_9'"
      ]
     },
     "execution_count": 46,
     "metadata": {},
     "output_type": "execute_result"
    }
   ],
   "source": [
    "# Run this cell while watching above\n",
    "kc.execute(\"x = 3\")"
   ]
  },
  {
   "cell_type": "code",
   "execution_count": 30,
   "metadata": {},
   "outputs": [
    {
     "data": {
      "text/plain": [
       "False"
      ]
     },
     "execution_count": 30,
     "metadata": {},
     "output_type": "execute_result"
    }
   ],
   "source": [
    "iopub_task.done()"
   ]
  },
  {
   "cell_type": "code",
   "execution_count": 29,
   "metadata": {},
   "outputs": [
    {
     "data": {
      "text/plain": [
       "[<frame at 0x7fadc24884f0, file '<ipython-input-20-dfb20fd6f59c>', line 7, code dump_iopub>]"
      ]
     },
     "execution_count": 29,
     "metadata": {},
     "output_type": "execute_result"
    }
   ],
   "source": [
    "# We can see where the task is at in the stack at any time\n",
    "iopub_task.get_stack()"
   ]
  },
  {
   "cell_type": "code",
   "execution_count": 26,
   "metadata": {},
   "outputs": [
    {
     "ename": "InvalidStateError",
     "evalue": "Exception is not set.",
     "output_type": "error",
     "traceback": [
      "\u001b[0;31m---------------------------------------------------------------------------\u001b[0m",
      "\u001b[0;31mInvalidStateError\u001b[0m                         Traceback (most recent call last)",
      "\u001b[0;32m<ipython-input-26-f443c9c20ccb>\u001b[0m in \u001b[0;36m<module>\u001b[0;34m\u001b[0m\n\u001b[1;32m      1\u001b[0m \u001b[38;5;66m# While also checking on exceptions, if there are any\u001b[39m\n\u001b[0;32m----> 2\u001b[0m iopub_task\u001b[38;5;241m.\u001b[39mexception()\n",
      "\u001b[0;31mInvalidStateError\u001b[0m: Exception is not set."
     ]
    }
   ],
   "source": [
    "# While also checking on exceptions, if there are any\n",
    "iopub_task.exception()"
   ]
  },
  {
   "cell_type": "markdown",
   "metadata": {},
   "source": [
    "# Junk Experiments"
   ]
  },
  {
   "cell_type": "code",
   "execution_count": 32,
   "metadata": {},
   "outputs": [
    {
     "data": {
      "text/plain": [
       "{'header': {'msg_id': '54e708fb-eba482c91754cc53d2fcdaad_8',\n",
       "  'msg_type': 'junk',\n",
       "  'username': 'kylek',\n",
       "  'session': '54e708fb-eba482c91754cc53d2fcdaad',\n",
       "  'date': datetime.datetime(2020, 4, 9, 15, 51, 20, 190152, tzinfo=datetime.timezone.utc),\n",
       "  'version': '5.3'},\n",
       " 'msg_id': '54e708fb-eba482c91754cc53d2fcdaad_8',\n",
       " 'msg_type': 'junk',\n",
       " 'parent_header': {},\n",
       " 'content': {'pooh': True},\n",
       " 'metadata': {}}"
      ]
     },
     "metadata": {},
     "output_type": "display_data"
    }
   ],
   "source": [
    "# Create a message using kc.session.msg\n",
    "msg = kc.session.msg('junk', {\"pooh\": True})\n",
    "display(msg)"
   ]
  },
  {
   "cell_type": "code",
   "execution_count": 33,
   "metadata": {},
   "outputs": [],
   "source": [
    "# Send is not awaitable, it sends immediately\n",
    "kc.shell_channel.send(msg)"
   ]
  },
  {
   "cell_type": "code",
   "execution_count": 45,
   "metadata": {},
   "outputs": [
    {
     "ename": "CancelledError",
     "evalue": "",
     "output_type": "error",
     "traceback": [
      "\u001b[0;31m---------------------------------------------------------------------------\u001b[0m",
      "\u001b[0;31mCancelledError\u001b[0m                            Traceback (most recent call last)",
      "\u001b[0;32m<ipython-input-45-0ae80fb5cfa6>\u001b[0m in \u001b[0;36masync-def-wrapper\u001b[0;34m()\u001b[0m\n",
      "\u001b[0;32m/usr/local/lib/python3.7/site-packages/jupyter_client/asynchronous/client.py\u001b[0m in \u001b[0;36mget_shell_msg\u001b[0;34m(self, *args, **kwargs)\u001b[0m\n\u001b[1;32m     75\u001b[0m \u001b[38;5;28;01masync\u001b[39;00m \u001b[38;5;28;01mdef\u001b[39;00m \u001b[38;5;21mget_shell_msg\u001b[39m(\u001b[38;5;28mself\u001b[39m, \u001b[38;5;241m*\u001b[39margs, \u001b[38;5;241m*\u001b[39m\u001b[38;5;241m*\u001b[39mkwargs):\n\u001b[1;32m     76\u001b[0m     \u001b[38;5;124m\"\"\"Get a message from the shell channel\"\"\"\u001b[39m\n\u001b[0;32m---> 77\u001b[0m     \u001b[38;5;28;01mreturn\u001b[39;00m \u001b[38;5;28;01mawait\u001b[39;00m \u001b[38;5;28mself\u001b[39m\u001b[38;5;241m.\u001b[39mshell_channel\u001b[38;5;241m.\u001b[39mget_msg(\u001b[38;5;241m*\u001b[39margs, \u001b[38;5;241m*\u001b[39m\u001b[38;5;241m*\u001b[39mkwargs)\n\u001b[1;32m     79\u001b[0m \u001b[38;5;28;01masync\u001b[39;00m \u001b[38;5;28;01mdef\u001b[39;00m \u001b[38;5;21mget_iopub_msg\u001b[39m(\u001b[38;5;28mself\u001b[39m, \u001b[38;5;241m*\u001b[39margs, \u001b[38;5;241m*\u001b[39m\u001b[38;5;241m*\u001b[39mkwargs):\n\u001b[1;32m     80\u001b[0m     \u001b[38;5;124m\"\"\"Get a message from the iopub channel\"\"\"\u001b[39m\n",
      "\u001b[0;32m/usr/local/lib/python3.7/site-packages/jupyter_client/asynchronous/channels.py\u001b[0m in \u001b[0;36mget_msg\u001b[0;34m(self, timeout)\u001b[0m\n\u001b[1;32m     41\u001b[0m \u001b[38;5;28;01mif\u001b[39;00m timeout \u001b[38;5;129;01mis\u001b[39;00m \u001b[38;5;129;01mnot\u001b[39;00m \u001b[38;5;28;01mNone\u001b[39;00m:\n\u001b[1;32m     42\u001b[0m     timeout \u001b[38;5;241m*\u001b[39m\u001b[38;5;241m=\u001b[39m \u001b[38;5;241m1000\u001b[39m  \u001b[38;5;66m# seconds to ms\u001b[39m\n\u001b[0;32m---> 43\u001b[0m ready \u001b[38;5;241m=\u001b[39m \u001b[38;5;28;01mawait\u001b[39;00m \u001b[38;5;28mself\u001b[39m\u001b[38;5;241m.\u001b[39msocket\u001b[38;5;241m.\u001b[39mpoll(timeout)\n\u001b[1;32m     45\u001b[0m \u001b[38;5;28;01mif\u001b[39;00m ready:\n\u001b[1;32m     46\u001b[0m     \u001b[38;5;28;01mreturn\u001b[39;00m \u001b[38;5;28;01mawait\u001b[39;00m \u001b[38;5;28mself\u001b[39m\u001b[38;5;241m.\u001b[39m_recv()\n",
      "\u001b[0;31mCancelledError\u001b[0m: "
     ]
    }
   ],
   "source": [
    "reply = await kc.get_shell_msg(100)"
   ]
  },
  {
   "cell_type": "code",
   "execution_count": null,
   "metadata": {},
   "outputs": [],
   "source": [
    "reply"
   ]
  },
  {
   "cell_type": "code",
   "execution_count": null,
   "metadata": {},
   "outputs": [],
   "source": []
  }
 ],
 "metadata": {
  "kernelspec": {
   "display_name": "Python 3",
   "language": "python",
   "name": "wrapper"
  },
  "language_info": {
   "codemirror_mode": {
    "name": "ipython",
    "version": 3
   },
   "file_extension": ".py",
   "mimetype": "text/x-python",
   "name": "python",
   "nbconvert_exporter": "python",
   "pygments_lexer": "ipython3",
   "version": "3.7.7"
  }
 },
 "nbformat": 4,
 "nbformat_minor": 4
}
